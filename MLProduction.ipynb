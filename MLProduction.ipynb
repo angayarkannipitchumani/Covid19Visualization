{
  "nbformat": 4,
  "nbformat_minor": 0,
  "metadata": {
    "colab": {
      "name": "MLProduction.ipynb",
      "provenance": [],
      "authorship_tag": "ABX9TyOIAvlIPISMGD/6QzwQO/5o",
      "include_colab_link": true
    },
    "kernelspec": {
      "name": "python3",
      "display_name": "Python 3"
    },
    "language_info": {
      "name": "python"
    }
  },
  "cells": [
    {
      "cell_type": "markdown",
      "metadata": {
        "id": "view-in-github",
        "colab_type": "text"
      },
      "source": [
        "<a href=\"https://colab.research.google.com/github/angayarkannipitchumani/Covid19Visualization/blob/master/MLProduction.ipynb\" target=\"_parent\"><img src=\"https://colab.research.google.com/assets/colab-badge.svg\" alt=\"Open In Colab\"/></a>"
      ]
    },
    {
      "cell_type": "code",
      "metadata": {
        "colab": {
          "base_uri": "https://localhost:8080/"
        },
        "id": "9oPdtKNsoSns",
        "outputId": "9dc47b47-b7df-45ba-af08-c628f39f1135"
      },
      "source": [
        "from fastapi import FastAPI\n",
        "import pickle\n",
        "from flask_ngrok import run_with_ngrok\n",
        "from flask import render_template\n",
        "import pickle\n",
        "from flask import request,jsonify, render_template\n",
        "from flask import Flask\n",
        "from fastapi import FastAPI\n",
        "import pickle\n",
        "app=Flask(__name__)\n",
        "\n",
        "\n",
        "#app = FastAPI()\n",
        "\n",
        "#@app.on_event(\"startup\")\n",
        "run_with_ngrok(app)\n",
        "pred_name=\"\"\n",
        "global model\n",
        "model = pickle.load(open(\"/content/final_prediction.pickle\", \"rb\"))\n",
        "#@app.route(\"/\")\n",
        "@app.route('/')\n",
        "def index():\n",
        "    return render_template('index.html')\n",
        "\n",
        "#app = FastAPI()\n",
        "\n",
        "#@app.on_event(\"startup\")\n",
        "\n",
        "\n",
        "\n",
        "\n",
        "\n",
        "@app.route('/predict',methods=['GET', 'POST'])\n",
        "def predict():\n",
        "    cough = int(request.form['cough'])\n",
        "    fever = int(request.form['fever'])\n",
        "    sore_throat = int(request.form['sore_throat'])\n",
        "    shortnessofbreath= int(request.form['shortnessofbreath'])\n",
        "    headache = int(request.form['headache'])\n",
        "    age_60_and_above = int(request.form['age_60_and_above'])\n",
        "    test_indication = int(request.form['test_indication'])\n",
        "    data_in=[[cough,fever,sore_throat,shortnessofbreath,headache,age_60_and_above,test_indication]]\n",
        "    pred = model.predict([[cough,fever,sore_throat,shortnessofbreath,headache,age_60_and_above,test_indication]]).tolist()[0]\n",
        "    if pred==0:\n",
        "      pred_name=\"negative\"\n",
        "    elif pred==1:\n",
        "      pred_name='other'\n",
        "    elif pred==2:\n",
        "      pred_name='Positive'\n",
        "    probability = model.predict_proba(data_in).max()\n",
        "    \n",
        "    return {'prediction': pred_name,'probability':probability*100 }\n",
        "    \n",
        "    \n",
        "@app.route('/results',methods=['POST'])\n",
        "    \n",
        "def results():\n",
        "\n",
        "    data = request.get_json(force=True)\n",
        "    prediction = model.predict([np.array(list(data.values()))])\n",
        "\n",
        "    output = prediction[0]\n",
        "    return jsonify(output)\n",
        "app.run()"
      ],
      "execution_count": 6,
      "outputs": [
        {
          "output_type": "stream",
          "text": [
            " * Serving Flask app \"__main__\" (lazy loading)\n",
            " * Environment: production\n",
            "\u001b[31m   WARNING: This is a development server. Do not use it in a production deployment.\u001b[0m\n",
            "\u001b[2m   Use a production WSGI server instead.\u001b[0m\n",
            " * Debug mode: off\n"
          ],
          "name": "stdout"
        },
        {
          "output_type": "stream",
          "text": [
            " * Running on http://127.0.0.1:5000/ (Press CTRL+C to quit)\n"
          ],
          "name": "stderr"
        },
        {
          "output_type": "stream",
          "text": [
            " * Running on http://dfabf0d00b6a.ngrok.io\n",
            " * Traffic stats available on http://127.0.0.1:4040\n"
          ],
          "name": "stdout"
        },
        {
          "output_type": "stream",
          "text": [
            "127.0.0.1 - - [03/Jun/2021 11:32:12] \"\u001b[37mGET / HTTP/1.1\u001b[0m\" 200 -\n",
            "127.0.0.1 - - [03/Jun/2021 11:32:13] \"\u001b[33mGET /favicon.ico HTTP/1.1\u001b[0m\" 404 -\n",
            "127.0.0.1 - - [03/Jun/2021 11:32:25] \"\u001b[37mPOST /predict HTTP/1.1\u001b[0m\" 200 -\n"
          ],
          "name": "stderr"
        }
      ]
    },
    {
      "cell_type": "code",
      "metadata": {
        "colab": {
          "base_uri": "https://localhost:8080/"
        },
        "id": "iLgGqSEupDXg",
        "outputId": "1252b229-50cd-4909-9474-757ed2004199"
      },
      "source": [
        "!pip install fastapi"
      ],
      "execution_count": 4,
      "outputs": [
        {
          "output_type": "stream",
          "text": [
            "Requirement already satisfied: fastapi in /usr/local/lib/python3.7/dist-packages (0.65.1)\n",
            "Requirement already satisfied: starlette==0.14.2 in /usr/local/lib/python3.7/dist-packages (from fastapi) (0.14.2)\n",
            "Requirement already satisfied: pydantic!=1.7,!=1.7.1,!=1.7.2,!=1.7.3,!=1.8,!=1.8.1,<2.0.0,>=1.6.2 in /usr/local/lib/python3.7/dist-packages (from fastapi) (1.8.2)\n",
            "Requirement already satisfied: typing-extensions>=3.7.4.3 in /usr/local/lib/python3.7/dist-packages (from pydantic!=1.7,!=1.7.1,!=1.7.2,!=1.7.3,!=1.8,!=1.8.1,<2.0.0,>=1.6.2->fastapi) (3.7.4.3)\n"
          ],
          "name": "stdout"
        }
      ]
    },
    {
      "cell_type": "code",
      "metadata": {
        "colab": {
          "base_uri": "https://localhost:8080/"
        },
        "id": "QOZ0xpvlpMW8",
        "outputId": "f5355ea8-6254-4e74-fc5e-b4f642cb117a"
      },
      "source": [
        "!pip install flask_ngrok"
      ],
      "execution_count": 5,
      "outputs": [
        {
          "output_type": "stream",
          "text": [
            "Collecting flask_ngrok\n",
            "  Downloading https://files.pythonhosted.org/packages/af/6c/f54cb686ad1129e27d125d182f90f52b32f284e6c8df58c1bae54fa1adbc/flask_ngrok-0.0.25-py3-none-any.whl\n",
            "Requirement already satisfied: Flask>=0.8 in /usr/local/lib/python3.7/dist-packages (from flask_ngrok) (1.1.4)\n",
            "Requirement already satisfied: requests in /usr/local/lib/python3.7/dist-packages (from flask_ngrok) (2.23.0)\n",
            "Requirement already satisfied: click<8.0,>=5.1 in /usr/local/lib/python3.7/dist-packages (from Flask>=0.8->flask_ngrok) (7.1.2)\n",
            "Requirement already satisfied: Werkzeug<2.0,>=0.15 in /usr/local/lib/python3.7/dist-packages (from Flask>=0.8->flask_ngrok) (1.0.1)\n",
            "Requirement already satisfied: Jinja2<3.0,>=2.10.1 in /usr/local/lib/python3.7/dist-packages (from Flask>=0.8->flask_ngrok) (2.11.3)\n",
            "Requirement already satisfied: itsdangerous<2.0,>=0.24 in /usr/local/lib/python3.7/dist-packages (from Flask>=0.8->flask_ngrok) (1.1.0)\n",
            "Requirement already satisfied: idna<3,>=2.5 in /usr/local/lib/python3.7/dist-packages (from requests->flask_ngrok) (2.10)\n",
            "Requirement already satisfied: urllib3!=1.25.0,!=1.25.1,<1.26,>=1.21.1 in /usr/local/lib/python3.7/dist-packages (from requests->flask_ngrok) (1.24.3)\n",
            "Requirement already satisfied: certifi>=2017.4.17 in /usr/local/lib/python3.7/dist-packages (from requests->flask_ngrok) (2020.12.5)\n",
            "Requirement already satisfied: chardet<4,>=3.0.2 in /usr/local/lib/python3.7/dist-packages (from requests->flask_ngrok) (3.0.4)\n",
            "Requirement already satisfied: MarkupSafe>=0.23 in /usr/local/lib/python3.7/dist-packages (from Jinja2<3.0,>=2.10.1->Flask>=0.8->flask_ngrok) (2.0.1)\n",
            "Installing collected packages: flask-ngrok\n",
            "Successfully installed flask-ngrok-0.0.25\n"
          ],
          "name": "stdout"
        }
      ]
    }
  ]
}